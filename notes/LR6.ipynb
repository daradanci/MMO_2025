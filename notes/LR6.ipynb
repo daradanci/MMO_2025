{
  "nbformat": 4,
  "nbformat_minor": 0,
  "metadata": {
    "colab": {
      "provenance": [],
      "include_colab_link": true
    },
    "kernelspec": {
      "name": "python3",
      "display_name": "Python 3"
    },
    "language_info": {
      "name": "python"
    }
  },
  "cells": [
    {
      "cell_type": "markdown",
      "metadata": {
        "id": "view-in-github",
        "colab_type": "text"
      },
      "source": [
        "<a href=\"https://colab.research.google.com/github/daradanci/MMO_2025/blob/main/notes/LR6.ipynb\" target=\"_parent\"><img src=\"https://colab.research.google.com/assets/colab-badge.svg\" alt=\"Open In Colab\"/></a>"
      ]
    },
    {
      "cell_type": "code",
      "execution_count": null,
      "metadata": {
        "colab": {
          "base_uri": "https://localhost:8080/"
        },
        "id": "HolVXoQvyHO6",
        "outputId": "35c72ab2-2286-4f62-d316-4286ccff87d7"
      },
      "outputs": [
        {
          "output_type": "stream",
          "name": "stdout",
          "text": [
            "Пример текста:\n",
            "I was wondering if anyone out there could enlighten me on this car I saw\n",
            "the other day. It was a 2-door sports car, looked to be from the late 60s/\n",
            "early 70s. It was called a Bricklin. The doors were ...\n",
            "\n",
            "Метка категории: 7 (rec.autos)\n"
          ]
        }
      ],
      "source": [
        "from sklearn.datasets import fetch_20newsgroups\n",
        "\n",
        "# Загружаем данные (только тренировочную часть)\n",
        "data = fetch_20newsgroups(subset='train', remove=('headers', 'footers', 'quotes'))\n",
        "texts = data.data  # Список текстов\n",
        "labels = data.target  # Метки категорий (0-19)\n",
        "\n",
        "print(f\"Пример текста:\\n{texts[0][:200]}...\")\n",
        "print(f\"\\nМетка категории: {labels[0]} ({data.target_names[labels[0]]})\")"
      ]
    },
    {
      "cell_type": "code",
      "source": [
        "!pip install --upgrade numpy gensim"
      ],
      "metadata": {
        "colab": {
          "base_uri": "https://localhost:8080/"
        },
        "id": "WG0zZmzB6oGe",
        "outputId": "584a7030-65e2-4162-8e9c-411c6239af1d"
      },
      "execution_count": null,
      "outputs": [
        {
          "output_type": "stream",
          "name": "stdout",
          "text": [
            "Requirement already satisfied: numpy in /usr/local/lib/python3.11/dist-packages (1.26.4)\n",
            "Collecting numpy\n",
            "  Downloading numpy-2.2.5-cp311-cp311-manylinux_2_17_x86_64.manylinux2014_x86_64.whl.metadata (62 kB)\n",
            "\u001b[2K     \u001b[90m━━━━━━━━━━━━━━━━━━━━━━━━━━━━━━━━━━━━━━━━\u001b[0m \u001b[32m62.0/62.0 kB\u001b[0m \u001b[31m2.0 MB/s\u001b[0m eta \u001b[36m0:00:00\u001b[0m\n",
            "\u001b[?25hRequirement already satisfied: gensim in /usr/local/lib/python3.11/dist-packages (4.3.3)\n",
            "Requirement already satisfied: scipy<1.14.0,>=1.7.0 in /usr/local/lib/python3.11/dist-packages (from gensim) (1.13.1)\n",
            "Requirement already satisfied: smart-open>=1.8.1 in /usr/local/lib/python3.11/dist-packages (from gensim) (7.1.0)\n",
            "Requirement already satisfied: wrapt in /usr/local/lib/python3.11/dist-packages (from smart-open>=1.8.1->gensim) (1.17.2)\n"
          ]
        }
      ]
    },
    {
      "cell_type": "code",
      "source": [
        "import numpy, gensim\n",
        "print(f\"NumPy: {numpy.__version__}\")\n",
        "print(f\"Gensim: {gensim.__version__}\")"
      ],
      "metadata": {
        "colab": {
          "base_uri": "https://localhost:8080/"
        },
        "id": "PRz5IgUl6tuc",
        "outputId": "2e383314-8a6b-44d0-d1ec-456fb2fcea46"
      },
      "execution_count": null,
      "outputs": [
        {
          "output_type": "stream",
          "name": "stdout",
          "text": [
            "NumPy: 1.26.4\n",
            "Gensim: 4.3.3\n"
          ]
        }
      ]
    },
    {
      "cell_type": "markdown",
      "source": [
        "word2vec"
      ],
      "metadata": {
        "id": "jxV-woRR0bDo"
      }
    },
    {
      "cell_type": "code",
      "source": [
        "from gensim.utils import simple_preprocess\n",
        "from nltk.corpus import stopwords\n",
        "import nltk\n",
        "nltk.download('stopwords')\n",
        "\n",
        "stop_words = set(stopwords.words('english'))\n",
        "\n",
        "def preprocess(text):\n",
        "    return [word for word in simple_preprocess(text) if word not in stop_words]\n",
        "\n",
        "tokenized_texts = [preprocess(text) for text in texts]"
      ],
      "metadata": {
        "colab": {
          "base_uri": "https://localhost:8080/"
        },
        "id": "YxVrj-kB6W6L",
        "outputId": "c874b2f7-ed7d-4c78-867b-2df243c23691"
      },
      "execution_count": null,
      "outputs": [
        {
          "output_type": "stream",
          "name": "stderr",
          "text": [
            "[nltk_data] Downloading package stopwords to /root/nltk_data...\n",
            "[nltk_data]   Package stopwords is already up-to-date!\n"
          ]
        }
      ]
    },
    {
      "cell_type": "code",
      "source": [
        "# Убедитесь, что предобработка выполнена:\n",
        "from gensim.utils import simple_preprocess\n",
        "tokenized_texts = [simple_preprocess(text) for text in texts]\n",
        "\n",
        "# Обучение модели\n",
        "from gensim.models import Word2Vec\n",
        "\n",
        "model_w2v = Word2Vec(\n",
        "    sentences=tokenized_texts,\n",
        "    vector_size=100,\n",
        "    window=5,\n",
        "    min_count=5,\n",
        "    workers=4,\n",
        "    epochs=10,\n",
        "    sg=1  # Используем skip-gram\n",
        ")\n",
        "\n",
        "# Проверка\n",
        "print(model_w2v.wv.most_similar(\"computer\", topn=3))"
      ],
      "metadata": {
        "colab": {
          "base_uri": "https://localhost:8080/"
        },
        "id": "gwYntgvo6byZ",
        "outputId": "df72c490-569d-4cef-fb50-f197e09cb21f"
      },
      "execution_count": null,
      "outputs": [
        {
          "output_type": "stream",
          "name": "stdout",
          "text": [
            "[('aided', 0.62911456823349), ('shopper', 0.6050333380699158), ('isdn', 0.5961162447929382)]\n"
          ]
        }
      ]
    },
    {
      "cell_type": "code",
      "source": [
        "import numpy as np\n",
        "\n",
        "def text_to_vector(tokens, model):\n",
        "    vectors = [model.wv[word] for word in tokens if word in model.wv]\n",
        "    return np.mean(vectors, axis=0) if vectors else np.zeros(model.vector_size)\n",
        "\n",
        "X_w2v = np.array([text_to_vector(tokens, model_w2v) for tokens in tokenized_texts])\n",
        "y = labels"
      ],
      "metadata": {
        "id": "qHLNbf9_7J3M"
      },
      "execution_count": null,
      "outputs": []
    },
    {
      "cell_type": "code",
      "source": [
        "from sklearn.ensemble import RandomForestClassifier\n",
        "from sklearn.model_selection import train_test_split\n",
        "from sklearn.metrics import classification_report\n",
        "\n",
        "X_train, X_test, y_train, y_test = train_test_split(X_w2v, y, test_size=0.3, random_state=42)\n",
        "\n",
        "clf_w2v = RandomForestClassifier(n_estimators=100)\n",
        "clf_w2v.fit(X_train, y_train)\n",
        "\n",
        "y_pred = clf_w2v.predict(X_test)\n",
        "print(\"Word2Vec + RandomForest:\")\n",
        "print(classification_report(y_test, y_pred, target_names=data.target_names))"
      ],
      "metadata": {
        "colab": {
          "base_uri": "https://localhost:8080/"
        },
        "id": "xYRxyBIaycTD",
        "outputId": "b93f2403-fa07-4b5c-e3eb-a0c381accc09"
      },
      "execution_count": null,
      "outputs": [
        {
          "output_type": "stream",
          "name": "stdout",
          "text": [
            "Word2Vec + RandomForest:\n",
            "                          precision    recall  f1-score   support\n",
            "\n",
            "             alt.atheism       0.44      0.55      0.49       135\n",
            "           comp.graphics       0.46      0.52      0.49       166\n",
            " comp.os.ms-windows.misc       0.55      0.49      0.52       170\n",
            "comp.sys.ibm.pc.hardware       0.51      0.50      0.50       182\n",
            "   comp.sys.mac.hardware       0.50      0.39      0.44       183\n",
            "          comp.windows.x       0.67      0.75      0.71       169\n",
            "            misc.forsale       0.63      0.70      0.67       172\n",
            "               rec.autos       0.36      0.50      0.42       191\n",
            "         rec.motorcycles       0.51      0.51      0.51       198\n",
            "      rec.sport.baseball       0.60      0.73      0.66       168\n",
            "        rec.sport.hockey       0.76      0.64      0.70       163\n",
            "               sci.crypt       0.82      0.67      0.74       195\n",
            "         sci.electronics       0.56      0.50      0.53       177\n",
            "                 sci.med       0.71      0.73      0.72       172\n",
            "               sci.space       0.69      0.61      0.65       176\n",
            "  soc.religion.christian       0.59      0.70      0.64       182\n",
            "      talk.politics.guns       0.53      0.64      0.58       173\n",
            "   talk.politics.mideast       0.67      0.68      0.68       160\n",
            "      talk.politics.misc       0.53      0.37      0.44       156\n",
            "      talk.religion.misc       0.31      0.08      0.13       107\n",
            "\n",
            "                accuracy                           0.57      3395\n",
            "               macro avg       0.57      0.56      0.56      3395\n",
            "            weighted avg       0.58      0.57      0.57      3395\n",
            "\n"
          ]
        }
      ]
    },
    {
      "cell_type": "markdown",
      "source": [
        "TfidfVectorizer\n"
      ],
      "metadata": {
        "id": "MFR6cBM10kol"
      }
    },
    {
      "cell_type": "code",
      "source": [
        "from sklearn.feature_extraction.text import TfidfVectorizer\n",
        "\n",
        "tfidf = TfidfVectorizer(max_features=5000, stop_words='english')\n",
        "X_tfidf = tfidf.fit_transform([\" \".join(tokens) for tokens in tokenized_texts])"
      ],
      "metadata": {
        "id": "kT4l4qW4yjr8"
      },
      "execution_count": null,
      "outputs": []
    },
    {
      "cell_type": "code",
      "source": [
        "X_train, X_test, y_train, y_test = train_test_split(X_tfidf, y, test_size=0.3, random_state=42)\n",
        "\n",
        "clf_tfidf = RandomForestClassifier(n_estimators=100)\n",
        "clf_tfidf.fit(X_train, y_train)\n",
        "\n",
        "y_pred = clf_tfidf.predict(X_test)\n",
        "print(\"\\nTF-IDF + RandomForest:\")\n",
        "print(classification_report(y_test, y_pred, target_names=data.target_names))"
      ],
      "metadata": {
        "colab": {
          "base_uri": "https://localhost:8080/"
        },
        "id": "1ZYu4b_EymXn",
        "outputId": "923629bd-5219-44b1-a28c-300f8726f0b3"
      },
      "execution_count": null,
      "outputs": [
        {
          "output_type": "stream",
          "name": "stdout",
          "text": [
            "\n",
            "TF-IDF + RandomForest:\n",
            "                          precision    recall  f1-score   support\n",
            "\n",
            "             alt.atheism       0.51      0.47      0.49       135\n",
            "           comp.graphics       0.55      0.51      0.53       166\n",
            " comp.os.ms-windows.misc       0.62      0.65      0.63       170\n",
            "comp.sys.ibm.pc.hardware       0.59      0.60      0.60       182\n",
            "   comp.sys.mac.hardware       0.68      0.62      0.65       183\n",
            "          comp.windows.x       0.64      0.79      0.71       169\n",
            "            misc.forsale       0.69      0.63      0.66       172\n",
            "               rec.autos       0.45      0.72      0.56       191\n",
            "         rec.motorcycles       0.74      0.63      0.68       198\n",
            "      rec.sport.baseball       0.64      0.67      0.66       168\n",
            "        rec.sport.hockey       0.73      0.73      0.73       163\n",
            "               sci.crypt       0.83      0.70      0.76       195\n",
            "         sci.electronics       0.55      0.54      0.54       177\n",
            "                 sci.med       0.67      0.72      0.69       172\n",
            "               sci.space       0.73      0.66      0.69       176\n",
            "  soc.religion.christian       0.56      0.76      0.65       182\n",
            "      talk.politics.guns       0.67      0.69      0.68       173\n",
            "   talk.politics.mideast       0.77      0.71      0.74       160\n",
            "      talk.politics.misc       0.62      0.52      0.56       156\n",
            "      talk.religion.misc       0.32      0.07      0.12       107\n",
            "\n",
            "                accuracy                           0.63      3395\n",
            "               macro avg       0.63      0.62      0.62      3395\n",
            "            weighted avg       0.64      0.63      0.63      3395\n",
            "\n"
          ]
        }
      ]
    },
    {
      "cell_type": "code",
      "source": [
        "!pip install gensim"
      ],
      "metadata": {
        "colab": {
          "base_uri": "https://localhost:8080/"
        },
        "id": "_ONka0rLzNIF",
        "outputId": "3c1a7d67-615d-487b-c0c3-84931f1556b3"
      },
      "execution_count": null,
      "outputs": [
        {
          "output_type": "stream",
          "name": "stdout",
          "text": [
            "Collecting gensim\n",
            "  Downloading gensim-4.3.3-cp311-cp311-manylinux_2_17_x86_64.manylinux2014_x86_64.whl.metadata (8.1 kB)\n",
            "Collecting numpy<2.0,>=1.18.5 (from gensim)\n",
            "  Downloading numpy-1.26.4-cp311-cp311-manylinux_2_17_x86_64.manylinux2014_x86_64.whl.metadata (61 kB)\n",
            "\u001b[2K     \u001b[90m━━━━━━━━━━━━━━━━━━━━━━━━━━━━━━━━━━━━━━━━\u001b[0m \u001b[32m61.0/61.0 kB\u001b[0m \u001b[31m2.6 MB/s\u001b[0m eta \u001b[36m0:00:00\u001b[0m\n",
            "\u001b[?25hCollecting scipy<1.14.0,>=1.7.0 (from gensim)\n",
            "  Downloading scipy-1.13.1-cp311-cp311-manylinux_2_17_x86_64.manylinux2014_x86_64.whl.metadata (60 kB)\n",
            "\u001b[2K     \u001b[90m━━━━━━━━━━━━━━━━━━━━━━━━━━━━━━━━━━━━━━━━\u001b[0m \u001b[32m60.6/60.6 kB\u001b[0m \u001b[31m2.7 MB/s\u001b[0m eta \u001b[36m0:00:00\u001b[0m\n",
            "\u001b[?25hRequirement already satisfied: smart-open>=1.8.1 in /usr/local/lib/python3.11/dist-packages (from gensim) (7.1.0)\n",
            "Requirement already satisfied: wrapt in /usr/local/lib/python3.11/dist-packages (from smart-open>=1.8.1->gensim) (1.17.2)\n",
            "Downloading gensim-4.3.3-cp311-cp311-manylinux_2_17_x86_64.manylinux2014_x86_64.whl (26.7 MB)\n",
            "\u001b[2K   \u001b[90m━━━━━━━━━━━━━━━━━━━━━━━━━━━━━━━━━━━━━━━━\u001b[0m \u001b[32m26.7/26.7 MB\u001b[0m \u001b[31m71.5 MB/s\u001b[0m eta \u001b[36m0:00:00\u001b[0m\n",
            "\u001b[?25hDownloading numpy-1.26.4-cp311-cp311-manylinux_2_17_x86_64.manylinux2014_x86_64.whl (18.3 MB)\n",
            "\u001b[2K   \u001b[90m━━━━━━━━━━━━━━━━━━━━━━━━━━━━━━━━━━━━━━━━\u001b[0m \u001b[32m18.3/18.3 MB\u001b[0m \u001b[31m93.3 MB/s\u001b[0m eta \u001b[36m0:00:00\u001b[0m\n",
            "\u001b[?25hDownloading scipy-1.13.1-cp311-cp311-manylinux_2_17_x86_64.manylinux2014_x86_64.whl (38.6 MB)\n",
            "\u001b[2K   \u001b[90m━━━━━━━━━━━━━━━━━━━━━━━━━━━━━━━━━━━━━━━━\u001b[0m \u001b[32m38.6/38.6 MB\u001b[0m \u001b[31m16.0 MB/s\u001b[0m eta \u001b[36m0:00:00\u001b[0m\n",
            "\u001b[?25hInstalling collected packages: numpy, scipy, gensim\n",
            "  Attempting uninstall: numpy\n",
            "    Found existing installation: numpy 2.0.2\n",
            "    Uninstalling numpy-2.0.2:\n",
            "      Successfully uninstalled numpy-2.0.2\n",
            "  Attempting uninstall: scipy\n",
            "    Found existing installation: scipy 1.15.2\n",
            "    Uninstalling scipy-1.15.2:\n",
            "      Successfully uninstalled scipy-1.15.2\n",
            "\u001b[31mERROR: pip's dependency resolver does not currently take into account all the packages that are installed. This behaviour is the source of the following dependency conflicts.\n",
            "thinc 8.3.6 requires numpy<3.0.0,>=2.0.0, but you have numpy 1.26.4 which is incompatible.\u001b[0m\u001b[31m\n",
            "\u001b[0mSuccessfully installed gensim-4.3.3 numpy-1.26.4 scipy-1.13.1\n"
          ]
        }
      ]
    }
  ]
}